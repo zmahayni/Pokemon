{
 "cells": [
  {
   "cell_type": "code",
   "execution_count": 1,
   "metadata": {},
   "outputs": [],
   "source": [
    "import pandas as pd"
   ]
  },
  {
   "cell_type": "code",
   "execution_count": 3,
   "metadata": {},
   "outputs": [
    {
     "name": "stdout",
     "output_type": "stream",
     "text": [
      "<bound method NDFrame.head of           Name     Type  Total     HP  Attack  Defense  Sp. Atk  Sp. Def  \\\n",
      "0    Bulbasaur    Grass  318.0   45.0    49.0     49.0     65.0     65.0   \n",
      "1          NaN      NaN    NaN    NaN     NaN      NaN      NaN      NaN   \n",
      "2          NaN   Poison    NaN    NaN     NaN      NaN      NaN      NaN   \n",
      "3      Ivysaur    Grass  405.0   60.0    62.0     63.0     80.0     80.0   \n",
      "4          NaN      NaN    NaN    NaN     NaN      NaN      NaN      NaN   \n",
      "..         ...      ...    ...    ...     ...      ...      ...      ...   \n",
      "363        NaN      NaN    NaN    NaN     NaN      NaN      NaN      NaN   \n",
      "364        NaN   Flying    NaN    NaN     NaN      NaN      NaN      NaN   \n",
      "365     Mewtwo  Psychic  680.0  106.0   110.0     90.0    154.0     90.0   \n",
      "366        NaN      NaN    NaN    NaN     NaN      NaN      NaN      NaN   \n",
      "367        Mew  Psychic  600.0  100.0   100.0    100.0    100.0    100.0   \n",
      "\n",
      "     Speed  \n",
      "0     45.0  \n",
      "1      NaN  \n",
      "2      NaN  \n",
      "3     60.0  \n",
      "4      NaN  \n",
      "..     ...  \n",
      "363    NaN  \n",
      "364    NaN  \n",
      "365  130.0  \n",
      "366    NaN  \n",
      "367  100.0  \n",
      "\n",
      "[368 rows x 9 columns]>\n"
     ]
    }
   ],
   "source": [
    "PokeStats = pd.read_excel('PokemonStats.xlsx') #read excel file"
   ]
  },
  {
   "cell_type": "code",
   "execution_count": 5,
   "metadata": {},
   "outputs": [
    {
     "name": "stdout",
     "output_type": "stream",
     "text": [
      "0      Grass-Poison\n",
      "1               NaN\n",
      "2            Poison\n",
      "3      Grass-Poison\n",
      "4               NaN\n",
      "           ...     \n",
      "363             NaN\n",
      "364          Flying\n",
      "365         Psychic\n",
      "366             NaN\n",
      "367         Psychic\n",
      "Name: Type, Length: 368, dtype: object\n"
     ]
    }
   ],
   "source": [
    "for i in range(0, len(PokeStats)): #get double types\n",
    "    if i >= len(PokeStats) - 2:\n",
    "        break\n",
    "    if pd.isnull(PokeStats.iloc[i+2, 0]) and not pd.isnull(PokeStats.iloc[i+2, 1]):\n",
    "        PokeStats.iloc[i, 1] += f\"-{PokeStats.iloc[i+2, 1]}\""
   ]
  },
  {
   "cell_type": "code",
   "execution_count": 9,
   "metadata": {},
   "outputs": [
    {
     "name": "stdout",
     "output_type": "stream",
     "text": [
      "Arbok\n"
     ]
    }
   ],
   "source": [
    "PokeStats = PokeStats.dropna() #drop rows with null values\n",
    "# for i in range(len(PokeStats)): #split types into array\n",
    "#     type_string = PokeStats.iloc[i, 1]\n",
    "#     type_array = []\n",
    "#     string1 = \"\"\n",
    "#     string2 = \"\"\n",
    "#     for j in range(len(type_string)):\n",
    "#         if type_string[j] != \"-\":\n",
    "#             string1 += (type_string[j])\n",
    "#         else:\n",
    "#             j += 1\n",
    "#             while j < len(type_string):\n",
    "#                 string2 += (type_string[j])\n",
    "#                 j += 1\n",
    "#             break\n",
    "#     type_array.append(string1)\n",
    "#     type_array.append(string2)\n",
    "#     PokeStats.iloc[i, 1] = type_array \n",
    "  \n",
    "\n",
    "        \n",
    "\n",
    "    "
   ]
  },
  {
   "cell_type": "code",
   "execution_count": 32,
   "metadata": {},
   "outputs": [
    {
     "name": "stdout",
     "output_type": "stream",
     "text": [
      "2\n",
      "50.778461538461535\n"
     ]
    }
   ],
   "source": [
    "import numpy as np\n",
    "stab = 1.5 #same type attack bonus \n",
    "level = 50 #level of pokemon\n",
    "Vine_Whip = [45, \"Grass\", \"Physical\"]\n",
    "Bulbusaur = PokeStats.iloc[0] \n",
    "Squirtle = PokeStats.iloc[6]\n",
    "def effectiveness (Type1, Type2):\n",
    "    if Type1 == \"Grass\":\n",
    "        if Type2 == \"Water\" or \"Ground\" or \"Rock\":\n",
    "            return 2\n",
    "        if Type2 == \"Fire\" or \"Flying\" or \"Poison\" or \"Bug\" or \"Grass\" or \"Dragon\":\n",
    "            return 0.5\n",
    "    return 1\n",
    "print(effectiveness(\"Grass\" , \"Water\"))\n",
    "def calculate_damage(pokemon1, pokemon2, move, stab, level):\n",
    "    Type1 = pokemon1.iloc[1]\n",
    "    Type2 = pokemon2.iloc[1]\n",
    "    power = move[0]\n",
    "    move_type = move[1]\n",
    "    attack = pokemon1.iloc[4]\n",
    "    defense = pokemon2.iloc[5]\n",
    "    # if Type1 != move_type:\n",
    "    #     stab -= 0.5\n",
    "    modifier = stab * effectiveness(move_type, Type2) #add np.rand(0.85,1)\n",
    "    damage = ((power/50 * (attack / defense) * ((2 * level/5)+2)) + 2) * modifier\n",
    "    return damage\n",
    "\n",
    "move_damage = calculate_damage(Bulbusaur, Squirtle, Vine_Whip, 1.5, 50)\n",
    "print(move_damage)\n",
    "\n"
   ]
  },
  {
   "cell_type": "code",
   "execution_count": null,
   "metadata": {},
   "outputs": [],
   "source": []
  }
 ],
 "metadata": {
  "kernelspec": {
   "display_name": "Python 3",
   "language": "python",
   "name": "python3"
  },
  "language_info": {
   "codemirror_mode": {
    "name": "ipython",
    "version": 3
   },
   "file_extension": ".py",
   "mimetype": "text/x-python",
   "name": "python",
   "nbconvert_exporter": "python",
   "pygments_lexer": "ipython3",
   "version": "3.12.6"
  }
 },
 "nbformat": 4,
 "nbformat_minor": 2
}
